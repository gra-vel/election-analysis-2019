{
 "cells": [
  {
   "cell_type": "markdown",
   "metadata": {},
   "source": [
    "# 2019 Ecuador election analysis - Mayoral elections"
   ]
  },
  {
   "cell_type": "markdown",
   "metadata": {},
   "source": [
    "### Introduction"
   ]
  },
  {
   "cell_type": "markdown",
   "metadata": {},
   "source": [
    "The focus of this analysis is to identify party performance in mayoral elections. Specifically, the analysis focuses on the parties that had won the most in these elections. Local elections took place on March 24, 2019. Some local authorities won with less than a third of support of the electorate due to the sheer number of candidates running for a single seat, which points out to a deep party fragmentation in the political system. "
   ]
  },
  {
   "cell_type": "markdown",
   "metadata": {},
   "source": [
    "### Background"
   ]
  },
  {
   "cell_type": "markdown",
   "metadata": {},
   "source": [
    "Ecuador has a multi-party system with almost no long-standing party tradition. Multiple parties emerge every few years in a sort of political cycle, even though most politicians have been around for several decades, but with different political organizations. General elections and local elections take place every four years but with a lag of two years between each other. The last general election was in 2017, whereas the last local election was in 2019. Next general election is in 2021.\n",
    "\n",
    "Even though the multi-party system is hailed as an expression of democracy, it is clear that there is a significant fragmentation in the political system. There were more than 40 000 candidates for the 5 661 available seats for local authorities. That is an average of seven candidates for each seat. The following analysis focuses only on the elections for mayor in the 221 city councils in the country."
   ]
  },
  {
   "cell_type": "markdown",
   "metadata": {},
   "source": [
    "### Exploration"
   ]
  },
  {
   "cell_type": "code",
   "execution_count": 1,
   "metadata": {},
   "outputs": [],
   "source": [
    "options(warn=-1)"
   ]
  },
  {
   "cell_type": "code",
   "execution_count": 2,
   "metadata": {},
   "outputs": [
    {
     "name": "stderr",
     "output_type": "stream",
     "text": [
      "-- Attaching packages --------------------------------------- tidyverse 1.3.0 --\n",
      "v ggplot2 3.2.1     v purrr   0.3.3\n",
      "v tibble  3.0.1     v dplyr   0.8.5\n",
      "v tidyr   1.0.0     v stringr 1.4.0\n",
      "v readr   1.3.1     v forcats 0.4.0\n",
      "-- Conflicts ------------------------------------------ tidyverse_conflicts() --\n",
      "x dplyr::filter() masks stats::filter()\n",
      "x dplyr::lag()    masks stats::lag()\n",
      "\n",
      "Attaching package: 'plotly'\n",
      "\n",
      "The following object is masked from 'package:ggplot2':\n",
      "\n",
      "    last_plot\n",
      "\n",
      "The following object is masked from 'package:stats':\n",
      "\n",
      "    filter\n",
      "\n",
      "The following object is masked from 'package:graphics':\n",
      "\n",
      "    layout\n",
      "\n"
     ]
    }
   ],
   "source": [
    "# loading libraries\n",
    "library(tidyverse)\n",
    "library(plotly)"
   ]
  },
  {
   "cell_type": "code",
   "execution_count": 3,
   "metadata": {},
   "outputs": [
    {
     "data": {
      "text/html": [
       "<table>\n",
       "<thead><tr><th scope=col>OP_CODIGO</th><th scope=col>CANDIDATO_CODIGO</th><th scope=col>CANDIDATO_ESTADO</th><th scope=col>OP_NOMBRE</th><th scope=col>OP_SIGLAS</th></tr></thead>\n",
       "<tbody>\n",
       "\t<tr><td>  3                                            </td><td> 2                                             </td><td>Electos                                        </td><td>Partido Sociedad Patriotica 21 De Enero        </td><td>PSP                                            </td></tr>\n",
       "\t<tr><td> 37                                            </td><td> 3                                             </td><td>No Electos                                     </td><td>Movimiento Sociedad Unida Mas Accion, Suma     </td><td>SUMA                                           </td></tr>\n",
       "\t<tr><td> 31                                            </td><td> 9                                             </td><td>Electos                                        </td><td>Movimiento Peninsular Creyendo En Nuestra Gente</td><td>MPCNG                                          </td></tr>\n",
       "\t<tr><td> 12                                            </td><td>10                                             </td><td>No Electos                                     </td><td>Movimiento De Unidad Plurinacional Pachakutik  </td><td>MUPP                                           </td></tr>\n",
       "\t<tr><td>  3                                            </td><td>16                                             </td><td>No Electos                                     </td><td>Partido Sociedad Patriotica 21 De Enero        </td><td>PSP                                            </td></tr>\n",
       "\t<tr><td>210                                            </td><td>17                                             </td><td>No Electos                                     </td><td>Movimiento De Accion Ciudadana Fenix           </td><td>MACF                                           </td></tr>\n",
       "</tbody>\n",
       "</table>\n"
      ],
      "text/latex": [
       "\\begin{tabular}{r|lllll}\n",
       " OP\\_CODIGO & CANDIDATO\\_CODIGO & CANDIDATO\\_ESTADO & OP\\_NOMBRE & OP\\_SIGLAS\\\\\n",
       "\\hline\n",
       "\t   3                                             &  2                                              & Electos                                         & Partido Sociedad Patriotica 21 De Enero         & PSP                                            \\\\\n",
       "\t  37                                             &  3                                              & No Electos                                      & Movimiento Sociedad Unida Mas Accion, Suma      & SUMA                                           \\\\\n",
       "\t  31                                             &  9                                              & Electos                                         & Movimiento Peninsular Creyendo En Nuestra Gente & MPCNG                                          \\\\\n",
       "\t  12                                             & 10                                              & No Electos                                      & Movimiento De Unidad Plurinacional Pachakutik   & MUPP                                           \\\\\n",
       "\t   3                                             & 16                                              & No Electos                                      & Partido Sociedad Patriotica 21 De Enero         & PSP                                            \\\\\n",
       "\t 210                                             & 17                                              & No Electos                                      & Movimiento De Accion Ciudadana Fenix            & MACF                                           \\\\\n",
       "\\end{tabular}\n"
      ],
      "text/markdown": [
       "\n",
       "| OP_CODIGO | CANDIDATO_CODIGO | CANDIDATO_ESTADO | OP_NOMBRE | OP_SIGLAS |\n",
       "|---|---|---|---|---|\n",
       "|   3                                             |  2                                              | Electos                                         | Partido Sociedad Patriotica 21 De Enero         | PSP                                             |\n",
       "|  37                                             |  3                                              | No Electos                                      | Movimiento Sociedad Unida Mas Accion, Suma      | SUMA                                            |\n",
       "|  31                                             |  9                                              | Electos                                         | Movimiento Peninsular Creyendo En Nuestra Gente | MPCNG                                           |\n",
       "|  12                                             | 10                                              | No Electos                                      | Movimiento De Unidad Plurinacional Pachakutik   | MUPP                                            |\n",
       "|   3                                             | 16                                              | No Electos                                      | Partido Sociedad Patriotica 21 De Enero         | PSP                                             |\n",
       "| 210                                             | 17                                              | No Electos                                      | Movimiento De Accion Ciudadana Fenix            | MACF                                            |\n",
       "\n"
      ],
      "text/plain": [
       "  OP_CODIGO CANDIDATO_CODIGO CANDIDATO_ESTADO\n",
       "1   3        2               Electos         \n",
       "2  37        3               No Electos      \n",
       "3  31        9               Electos         \n",
       "4  12       10               No Electos      \n",
       "5   3       16               No Electos      \n",
       "6 210       17               No Electos      \n",
       "  OP_NOMBRE                                       OP_SIGLAS\n",
       "1 Partido Sociedad Patriotica 21 De Enero         PSP      \n",
       "2 Movimiento Sociedad Unida Mas Accion, Suma      SUMA     \n",
       "3 Movimiento Peninsular Creyendo En Nuestra Gente MPCNG    \n",
       "4 Movimiento De Unidad Plurinacional Pachakutik   MUPP     \n",
       "5 Partido Sociedad Patriotica 21 De Enero         PSP      \n",
       "6 Movimiento De Accion Ciudadana Fenix            MACF     "
      ]
     },
     "metadata": {},
     "output_type": "display_data"
    }
   ],
   "source": [
    "# loading data for political parties\n",
    "load(\"parties.Rdata\")\n",
    "partidos_alc <- partidos_alc %>%\n",
    "  mutate(OP_SIGLAS = as.factor(toupper(as.character(OP_SIGLAS)))) #OP_SIGLAS - acronyms for parties\n",
    "head(partidos_alc)"
   ]
  },
  {
   "cell_type": "code",
   "execution_count": 4,
   "metadata": {},
   "outputs": [
    {
     "data": {
      "text/html": [
       "<table>\n",
       "<thead><tr><th scope=col>total.count</th></tr></thead>\n",
       "<tbody>\n",
       "\t<tr><td>1875</td></tr>\n",
       "</tbody>\n",
       "</table>\n"
      ],
      "text/latex": [
       "\\begin{tabular}{r|l}\n",
       " total.count\\\\\n",
       "\\hline\n",
       "\t 1875\\\\\n",
       "\\end{tabular}\n"
      ],
      "text/markdown": [
       "\n",
       "| total.count |\n",
       "|---|\n",
       "| 1875 |\n",
       "\n"
      ],
      "text/plain": [
       "  total.count\n",
       "1 1875       "
      ]
     },
     "metadata": {},
     "output_type": "display_data"
    }
   ],
   "source": [
    "# number of candidates\n",
    "partidos_alc %>%\n",
    "  select(CANDIDATO_CODIGO) %>% #CANDIDATO_CODIGO - id for each candidate\n",
    "  summarise(total.count = n())"
   ]
  },
  {
   "cell_type": "code",
   "execution_count": 5,
   "metadata": {},
   "outputs": [
    {
     "data": {
      "text/html": [
       "<table>\n",
       "<thead><tr><th scope=col>n</th></tr></thead>\n",
       "<tbody>\n",
       "\t<tr><td>380</td></tr>\n",
       "</tbody>\n",
       "</table>\n"
      ],
      "text/latex": [
       "\\begin{tabular}{r|l}\n",
       " n\\\\\n",
       "\\hline\n",
       "\t 380\\\\\n",
       "\\end{tabular}\n"
      ],
      "text/markdown": [
       "\n",
       "| n |\n",
       "|---|\n",
       "| 380 |\n",
       "\n"
      ],
      "text/plain": [
       "  n  \n",
       "1 380"
      ]
     },
     "metadata": {},
     "output_type": "display_data"
    }
   ],
   "source": [
    "# number of parties\n",
    "partidos_alc %>%\n",
    "  select(OP_CODIGO) %>% #OP_CODIGO - id for each party\n",
    "  unique() %>%\n",
    "  tally()"
   ]
  },
  {
   "cell_type": "markdown",
   "metadata": {},
   "source": [
    "There are 1 875 candidates from 380 parties for the mayoral elections. That means that there was an average of almost 8.5 candidates for each of the 221 cantones (city council) of the country. It is important to note that the number of parties differ if I consider either their names or their acronyms. Some parties use the same acronym, despite having different names. Some names in the data set use the generic word 'Alianza' (alliance, in Spanish), meaning that they do not differentiate between one another.\n",
    "\n",
    "The variable 'OP_CODIGO' uses a unique id for each party. There are some cases where the same party or alliance will have a different id based on the location in which they are participating. However, this happens when the party or alliance is local, instead of regional or national. The assumption is that these parties or alliances do not have a strong performance; therefore, it will not affect the analysis of larger parties. This is confirmed by getting the same results for top parties when using both the acronyms and the unique id."
   ]
  },
  {
   "cell_type": "markdown",
   "metadata": {},
   "source": [
    "### Number of victories by party or alliance"
   ]
  },
  {
   "cell_type": "code",
   "execution_count": 18,
   "metadata": {},
   "outputs": [
    {
     "data": {
      "text/html": [
       "40"
      ],
      "text/latex": [
       "40"
      ],
      "text/markdown": [
       "40"
      ],
      "text/plain": [
       "[1] 40"
      ]
     },
     "metadata": {},
     "output_type": "display_data"
    }
   ],
   "source": [
    "# getting 10 top individual parties and alliances\n",
    "top_parties <- partidos_alc %>%\n",
    "  filter(CANDIDATO_ESTADO == \"Electos\") %>% #filtering the elected candidates\n",
    "  group_by(OP_SIGLAS) %>%\n",
    "  count(OP_SIGLAS) %>%\n",
    "  arrange(desc(n)) %>%\n",
    "  head(10) %>% droplevels()\n",
    "(round(sum(top_parties$n)/221, 2))*100"
   ]
  },
  {
   "cell_type": "code",
   "execution_count": 19,
   "metadata": {},
   "outputs": [
    {
     "data": {
      "image/png": "[encoded data removed]",
      "text/plain": [
       "plot without title"
      ]
     },
     "metadata": {},
     "output_type": "display_data"
    }
   ],
   "source": [
    "options(repr.plot.width=10, repr.plot.height=8)\n",
    "top_plot <- ggplot(top_parties, aes(x = reorder(OP_SIGLAS, -n), y = n)) +\n",
    "  geom_bar(stat = 'identity', alpha = 1, fill='lightblue') +\n",
    "  ggtitle('Ten best performing parties/alliances by number of mayors elected') +\n",
    "  xlab('Parties and alliances') +\n",
    "  ylab('Count') +\n",
    "  theme(plot.title = element_text(hjust = 0.5),\n",
    "        axis.text.x = element_text(angle = 25, vjust = 1, hjust=1),\n",
    "        panel.background = element_rect(fill = 'white'),\n",
    "        panel.grid.major.y = element_line(size = 0.5, linetype = 'solid', color = 'gray'),\n",
    "        panel.grid.minor.y = element_line(size = 0.05, linetype = 'solid', color = 'gray'))\n",
    "top_plot"
   ]
  },
  {
   "cell_type": "markdown",
   "metadata": {},
   "source": [
    "Based on the number of victories, the MUPP could be considered the most successful party, as it managed to win in 15 cantones. However, there is a problem with this assertion, as it does not take into account how powerful alliances can be. Looking at the second, fifth and eight position, it appears that the PSC beats the MUPP, as it has won in more places by forming alliances. The victories of these 10 parties and alliances represent about 40% of the cantones in the country. It is also noteworthy the alliance between six parties, which has five victories."
   ]
  },
  {
   "cell_type": "markdown",
   "metadata": {},
   "source": [
    "### Number of victories by number of parties in alliance"
   ]
  },
  {
   "cell_type": "markdown",
   "metadata": {},
   "source": [
    "In theory, an alliance would entail that the parties involved are sharing power. However, in practice that is not always the case. A single individual and not a council take the mayor seat. An alliance may be formed by party x and y, where the candidate for mayor comes from party x. Voters may expect that the alliance will achieve some sort of balance between two parties when governing, but it is highly likely that the candidate will almost always favor party x policies. Another issue has to do with agreements between parties, where the support for the alliance can be explicitly divided between the parties involved. As an example, an agreement may give the major party 70% of the control of local government, as it invests more resources and has a wider support in the electorate.\n",
    "\n",
    "It is difficult to determine how each particular agreement works and it may take a whole different analysis and approach to accurately represent the balance of power in alliances. However, for the purposes of this analysis, the idea is to show how much the involvement of alliances can change the performance of parties in local elections. For this reason, the next step does not assume a division of power, but only accounts for the presence of a party in an alliance. This means that if party x and y share an alliance, both parties are registered to have won an election. This would inflate the real number of victories for each party. Nonetheless, it works as a representation of how much the party system can change and how important and widespread alliances are."
   ]
  },
  {
   "cell_type": "code",
   "execution_count": 16,
   "metadata": {},
   "outputs": [
    {
     "data": {
      "text/html": [
       "<table>\n",
       "<thead><tr><th scope=col>parties_n</th><th scope=col>total_allliance</th><th scope=col>perc</th></tr></thead>\n",
       "<tbody>\n",
       "\t<tr><td>1        </td><td>107      </td><td>48.416290</td></tr>\n",
       "\t<tr><td>2        </td><td> 78      </td><td>35.294118</td></tr>\n",
       "\t<tr><td>3        </td><td> 17      </td><td> 7.692308</td></tr>\n",
       "\t<tr><td>4        </td><td>  6      </td><td> 2.714932</td></tr>\n",
       "\t<tr><td>5        </td><td>  8      </td><td> 3.619910</td></tr>\n",
       "\t<tr><td>6        </td><td>  5      </td><td> 2.262443</td></tr>\n",
       "</tbody>\n",
       "</table>\n"
      ],
      "text/latex": [
       "\\begin{tabular}{r|lll}\n",
       " parties\\_n & total\\_allliance & perc\\\\\n",
       "\\hline\n",
       "\t 1         & 107       & 48.416290\\\\\n",
       "\t 2         &  78       & 35.294118\\\\\n",
       "\t 3         &  17       &  7.692308\\\\\n",
       "\t 4         &   6       &  2.714932\\\\\n",
       "\t 5         &   8       &  3.619910\\\\\n",
       "\t 6         &   5       &  2.262443\\\\\n",
       "\\end{tabular}\n"
      ],
      "text/markdown": [
       "\n",
       "| parties_n | total_allliance | perc |\n",
       "|---|---|---|\n",
       "| 1         | 107       | 48.416290 |\n",
       "| 2         |  78       | 35.294118 |\n",
       "| 3         |  17       |  7.692308 |\n",
       "| 4         |   6       |  2.714932 |\n",
       "| 5         |   8       |  3.619910 |\n",
       "| 6         |   5       |  2.262443 |\n",
       "\n"
      ],
      "text/plain": [
       "  parties_n total_allliance perc     \n",
       "1 1         107             48.416290\n",
       "2 2          78             35.294118\n",
       "3 3          17              7.692308\n",
       "4 4           6              2.714932\n",
       "5 5           8              3.619910\n",
       "6 6           5              2.262443"
      ]
     },
     "metadata": {},
     "output_type": "display_data"
    }
   ],
   "source": [
    "# all winning parties and alliances\n",
    "alliances <- partidos_alc %>%\n",
    "  mutate(parties_n = str_count(OP_SIGLAS, \"/\") + 1) %>% #how many parties are in the alliance\n",
    "  filter(CANDIDATO_ESTADO == \"Electos\")\n",
    "\n",
    "alliances %>%\n",
    "  group_by(parties_n) %>%\n",
    "  mutate(total_allliance = n()) %>%\n",
    "  select(parties_n, total_allliance) %>% unique() %>% \n",
    "  arrange(parties_n) %>% ungroup() %>%\n",
    "  mutate(perc = total_allliance/sum(total_allliance)*100)"
   ]
  },
  {
   "cell_type": "markdown",
   "metadata": {},
   "source": [
    "Single parties won in 107 cantones in the country, which is little under half of all the city councils in the country. The majority of victories for mayor belong to alliances, being the alliance of two parties the most used (35.3%)."
   ]
  },
  {
   "cell_type": "code",
   "execution_count": 17,
   "metadata": {},
   "outputs": [
    {
     "name": "stderr",
     "output_type": "stream",
     "text": [
      "Joining, by = \"party\"\n"
     ]
    },
    {
     "data": {
      "image/png": "[encoded data removed]",
      "text/plain": [
       "plot without title"
      ]
     },
     "metadata": {},
     "output_type": "display_data"
    }
   ],
   "source": [
    "# parties per alliance\n",
    "alliances <- as_tibble(str_split(alliances$OP_SIGLAS, \"/\", simplify = TRUE))\n",
    "\n",
    "# number of victories of each party running alone or as a part of an alliance\n",
    "alliances <- alliances %>% \n",
    "  mutate(parties_n = rowSums(alliances != \"\")) %>% #sums the number of parties in each election\n",
    "  gather(\"V1\",\"V2\",\"V3\",\"V4\",\"V5\",\"V6\", key = \"V\", value = \"party\") %>% #reshape data\n",
    "  filter(party != \"\") %>% #removes NA\n",
    "  count(party, parties_n) %>% #number of times a party appears per number of alliance\n",
    "  group_by(party) %>% \n",
    "  mutate(total = sum(n)) %>% \n",
    "  arrange(desc(total), desc(parties_n), desc(n)) %>% \n",
    "  ungroup()\n",
    "\n",
    "# identifying top ten individual parties\n",
    "alliances <- alliances %>%\n",
    "  left_join(alliances[!duplicated(alliances$party),] %>% #modify alliances by deleting party duplicates\n",
    "              select(party) %>% #takes only one variable\n",
    "              mutate(id_party = row_number())) %>% #creates id to join\n",
    "  filter(id_party <= 10) %>% #filters by id\n",
    "  mutate(parties_n = case_when(\n",
    "    .$parties_n == 1 ~ 'A single party',\n",
    "    .$parties_n == 2 ~ 'Alliance of 2',\n",
    "    .$parties_n == 3 ~ 'Alliance of 3',\n",
    "    .$parties_n == 4 ~ 'Alliance of 4',\n",
    "    .$parties_n == 5 ~ 'Alliance of 5',\n",
    "    .$parties_n == 6 ~ 'Alliance of 6'\n",
    "  ))\n",
    "\n",
    "\n",
    "# plotting alliances\n",
    "options(repr.plot.width=10, repr.plot.height=8)\n",
    "alliances_plot <- ggplot() +\n",
    "  geom_bar(data = alliances[order(alliances$parties_n, decreasing = FALSE),],\n",
    "           aes(reorder(party, -total), n, fill = as.factor(parties_n),),\n",
    "           stat = 'identity', alpha = 0.8, position = position_stack(reverse = TRUE)) +\n",
    "  geom_bar(data = alliances[which(alliances$parties_n == 1),],\n",
    "           aes(reorder(party, -total), n, fill = as.factor(parties_n),),\n",
    "           stat = 'identity', position = 'dodge') +\n",
    "  scale_fill_brewer(palette = \"Paired\", direction = -1) +\n",
    "  guides(fill = guide_legend(reverse = TRUE)) +\n",
    "  ggtitle('Top ten parties by number of alliances in mayor races') +\n",
    "  xlab('') +\n",
    "  ylab('Count') +\n",
    "  theme(plot.title = element_text(hjust = 0.5),\n",
    "        panel.background = element_rect(fill = 'white'),\n",
    "        panel.grid.major.y = element_line(size = 0.05, linetype = 'solid', color = 'gray'),\n",
    "        panel.grid.minor.y = element_line(size = 0.05, linetype = 'solid', color = 'gray'),\n",
    "        legend.position = 'bottom',\n",
    "        legend.title = element_blank())\n",
    "alliances_plot"
   ]
  },
  {
   "cell_type": "markdown",
   "metadata": {},
   "source": [
    "By taking into account the number of alliances, the order of the most successful parties changes significantly. The PSC could be considered the most successful party with 42 victories, 30 of them come from an alliance with one more party. The performance of the MUPP falls to fifth place, as it is the party with the less number victories in alliances (only 6), whereas the MMDG has no victory on its own, but 15 in alliances. Noteworthy are the parties with victories in alliances of five or six parties, as the implications of power sharing could be complex."
   ]
  },
  {
   "cell_type": "markdown",
   "metadata": {},
   "source": [
    "### Parties in second place"
   ]
  },
  {
   "cell_type": "markdown",
   "metadata": {},
   "source": [
    "Turning back to the parties and alliances in the first part of this analysis, the next question was to find out if there is a trend for the parties that came in second place. The idea is to find out which parties came in second, when one of these 10 parties or alliances won the mayor race in a specific canton. In this point, I use a second dataset with the total results in each city council in the country to identify the party that came in second. It is important to note that each political party or alliance present one candidate in each canton. Therefore, I use the id for candidates to identify the number of votes to later join the data with the id for parties."
   ]
  },
  {
   "cell_type": "code",
   "execution_count": 10,
   "metadata": {},
   "outputs": [
    {
     "data": {
      "text/html": [
       "<table>\n",
       "<thead><tr><th scope=col>PROVINCIA_CODIGO</th><th scope=col>PROVINCIA_NOMBRE</th><th scope=col>CANTON_CODIGO</th><th scope=col>CANTON_NOMBRE</th><th scope=col>CANDIDATO_CODIGO</th><th scope=col>VOTOS</th></tr></thead>\n",
       "<tbody>\n",
       "\t<tr><td>1     </td><td>Azuay </td><td>260   </td><td>Cuenca</td><td>13581 </td><td> 2840 </td></tr>\n",
       "\t<tr><td>1     </td><td>Azuay </td><td>260   </td><td>Cuenca</td><td>15411 </td><td>88882 </td></tr>\n",
       "\t<tr><td>1     </td><td>Azuay </td><td>260   </td><td>Cuenca</td><td>15881 </td><td> 5073 </td></tr>\n",
       "\t<tr><td>1     </td><td>Azuay </td><td>260   </td><td>Cuenca</td><td>22636 </td><td>61607 </td></tr>\n",
       "\t<tr><td>1     </td><td>Azuay </td><td>260   </td><td>Cuenca</td><td>24094 </td><td>46123 </td></tr>\n",
       "\t<tr><td>1     </td><td>Azuay </td><td>260   </td><td>Cuenca</td><td>24778 </td><td> 1360 </td></tr>\n",
       "</tbody>\n",
       "</table>\n"
      ],
      "text/latex": [
       "\\begin{tabular}{r|llllll}\n",
       " PROVINCIA\\_CODIGO & PROVINCIA\\_NOMBRE & CANTON\\_CODIGO & CANTON\\_NOMBRE & CANDIDATO\\_CODIGO & VOTOS\\\\\n",
       "\\hline\n",
       "\t 1      & Azuay  & 260    & Cuenca & 13581  &  2840 \\\\\n",
       "\t 1      & Azuay  & 260    & Cuenca & 15411  & 88882 \\\\\n",
       "\t 1      & Azuay  & 260    & Cuenca & 15881  &  5073 \\\\\n",
       "\t 1      & Azuay  & 260    & Cuenca & 22636  & 61607 \\\\\n",
       "\t 1      & Azuay  & 260    & Cuenca & 24094  & 46123 \\\\\n",
       "\t 1      & Azuay  & 260    & Cuenca & 24778  &  1360 \\\\\n",
       "\\end{tabular}\n"
      ],
      "text/markdown": [
       "\n",
       "| PROVINCIA_CODIGO | PROVINCIA_NOMBRE | CANTON_CODIGO | CANTON_NOMBRE | CANDIDATO_CODIGO | VOTOS |\n",
       "|---|---|---|---|---|---|\n",
       "| 1      | Azuay  | 260    | Cuenca | 13581  |  2840  |\n",
       "| 1      | Azuay  | 260    | Cuenca | 15411  | 88882  |\n",
       "| 1      | Azuay  | 260    | Cuenca | 15881  |  5073  |\n",
       "| 1      | Azuay  | 260    | Cuenca | 22636  | 61607  |\n",
       "| 1      | Azuay  | 260    | Cuenca | 24094  | 46123  |\n",
       "| 1      | Azuay  | 260    | Cuenca | 24778  |  1360  |\n",
       "\n"
      ],
      "text/plain": [
       "  PROVINCIA_CODIGO PROVINCIA_NOMBRE CANTON_CODIGO CANTON_NOMBRE\n",
       "1 1                Azuay            260           Cuenca       \n",
       "2 1                Azuay            260           Cuenca       \n",
       "3 1                Azuay            260           Cuenca       \n",
       "4 1                Azuay            260           Cuenca       \n",
       "5 1                Azuay            260           Cuenca       \n",
       "6 1                Azuay            260           Cuenca       \n",
       "  CANDIDATO_CODIGO VOTOS\n",
       "1 13581             2840\n",
       "2 15411            88882\n",
       "3 15881             5073\n",
       "4 22636            61607\n",
       "5 24094            46123\n",
       "6 24778             1360"
      ]
     },
     "metadata": {},
     "output_type": "display_data"
    }
   ],
   "source": [
    "# loading data of total results\n",
    "load(\"results.Rdata\")\n",
    "head(resultados_alc)"
   ]
  },
  {
   "cell_type": "code",
   "execution_count": 11,
   "metadata": {},
   "outputs": [
    {
     "data": {
      "text/html": [
       "<table>\n",
       "<thead><tr><th scope=col>OP_SIGLAS</th><th scope=col>n</th><th scope=col>sec</th><th scope=col>nn</th></tr></thead>\n",
       "<tbody>\n",
       "\t<tr><td>MUPP                    </td><td>15                      </td><td>MPFA/MPAIS              </td><td>3                       </td></tr>\n",
       "\t<tr><td>PSC/MMDG                </td><td>14                      </td><td>MPAIS                   </td><td>4                       </td></tr>\n",
       "\t<tr><td>MPAIS                   </td><td>10                      </td><td>PSC                     </td><td>2                       </td></tr>\n",
       "\t<tr><td>PSC                     </td><td> 9                      </td><td>MPAIS                   </td><td>2                       </td></tr>\n",
       "\t<tr><td>PSC                     </td><td> 9                      </td><td>UP                      </td><td>2                       </td></tr>\n",
       "\t<tr><td>CREO                    </td><td> 9                      </td><td>MPAIS                   </td><td>3                       </td></tr>\n",
       "\t<tr><td>MDSI                    </td><td> 8                      </td><td>PSC                     </td><td>2                       </td></tr>\n",
       "\t<tr><td>SUMA                    </td><td> 8                      </td><td>MUPP                    </td><td>2                       </td></tr>\n",
       "\t<tr><td>PSC/MPUP                </td><td> 6                      </td><td>CREO/MSP                </td><td>3                       </td></tr>\n",
       "\t<tr><td>CREO/MCUP/PAEA/FE/UE/MNP</td><td> 5                      </td><td>APLA/MPQ                </td><td>1                       </td></tr>\n",
       "\t<tr><td>CREO/MCUP/PAEA/FE/UE/MNP</td><td> 5                      </td><td>ID                      </td><td>1                       </td></tr>\n",
       "\t<tr><td>CREO/MCUP/PAEA/FE/UE/MNP</td><td> 5                      </td><td>MJS/PSE                 </td><td>1                       </td></tr>\n",
       "\t<tr><td>CREO/MCUP/PAEA/FE/UE/MNP</td><td> 5                      </td><td>PSC                     </td><td>1                       </td></tr>\n",
       "\t<tr><td>CREO/MCUP/PAEA/FE/UE/MNP</td><td> 5                      </td><td>SUMA                    </td><td>1                       </td></tr>\n",
       "\t<tr><td>MEU/MDSI                </td><td> 5                      </td><td>MCR                     </td><td>1                       </td></tr>\n",
       "\t<tr><td>MEU/MDSI                </td><td> 5                      </td><td>MGG                     </td><td>1                       </td></tr>\n",
       "\t<tr><td>MEU/MDSI                </td><td> 5                      </td><td>MNP/MPDR                </td><td>1                       </td></tr>\n",
       "\t<tr><td>MEU/MDSI                </td><td> 5                      </td><td>MPAIS                   </td><td>1                       </td></tr>\n",
       "\t<tr><td>MEU/MDSI                </td><td> 5                      </td><td>MUPP                    </td><td>1                       </td></tr>\n",
       "</tbody>\n",
       "</table>\n"
      ],
      "text/latex": [
       "\\begin{tabular}{r|llll}\n",
       " OP\\_SIGLAS & n & sec & nn\\\\\n",
       "\\hline\n",
       "\t MUPP                     & 15                       & MPFA/MPAIS               & 3                       \\\\\n",
       "\t PSC/MMDG                 & 14                       & MPAIS                    & 4                       \\\\\n",
       "\t MPAIS                    & 10                       & PSC                      & 2                       \\\\\n",
       "\t PSC                      &  9                       & MPAIS                    & 2                       \\\\\n",
       "\t PSC                      &  9                       & UP                       & 2                       \\\\\n",
       "\t CREO                     &  9                       & MPAIS                    & 3                       \\\\\n",
       "\t MDSI                     &  8                       & PSC                      & 2                       \\\\\n",
       "\t SUMA                     &  8                       & MUPP                     & 2                       \\\\\n",
       "\t PSC/MPUP                 &  6                       & CREO/MSP                 & 3                       \\\\\n",
       "\t CREO/MCUP/PAEA/FE/UE/MNP &  5                       & APLA/MPQ                 & 1                       \\\\\n",
       "\t CREO/MCUP/PAEA/FE/UE/MNP &  5                       & ID                       & 1                       \\\\\n",
       "\t CREO/MCUP/PAEA/FE/UE/MNP &  5                       & MJS/PSE                  & 1                       \\\\\n",
       "\t CREO/MCUP/PAEA/FE/UE/MNP &  5                       & PSC                      & 1                       \\\\\n",
       "\t CREO/MCUP/PAEA/FE/UE/MNP &  5                       & SUMA                     & 1                       \\\\\n",
       "\t MEU/MDSI                 &  5                       & MCR                      & 1                       \\\\\n",
       "\t MEU/MDSI                 &  5                       & MGG                      & 1                       \\\\\n",
       "\t MEU/MDSI                 &  5                       & MNP/MPDR                 & 1                       \\\\\n",
       "\t MEU/MDSI                 &  5                       & MPAIS                    & 1                       \\\\\n",
       "\t MEU/MDSI                 &  5                       & MUPP                     & 1                       \\\\\n",
       "\\end{tabular}\n"
      ],
      "text/markdown": [
       "\n",
       "| OP_SIGLAS | n | sec | nn |\n",
       "|---|---|---|---|\n",
       "| MUPP                     | 15                       | MPFA/MPAIS               | 3                        |\n",
       "| PSC/MMDG                 | 14                       | MPAIS                    | 4                        |\n",
       "| MPAIS                    | 10                       | PSC                      | 2                        |\n",
       "| PSC                      |  9                       | MPAIS                    | 2                        |\n",
       "| PSC                      |  9                       | UP                       | 2                        |\n",
       "| CREO                     |  9                       | MPAIS                    | 3                        |\n",
       "| MDSI                     |  8                       | PSC                      | 2                        |\n",
       "| SUMA                     |  8                       | MUPP                     | 2                        |\n",
       "| PSC/MPUP                 |  6                       | CREO/MSP                 | 3                        |\n",
       "| CREO/MCUP/PAEA/FE/UE/MNP |  5                       | APLA/MPQ                 | 1                        |\n",
       "| CREO/MCUP/PAEA/FE/UE/MNP |  5                       | ID                       | 1                        |\n",
       "| CREO/MCUP/PAEA/FE/UE/MNP |  5                       | MJS/PSE                  | 1                        |\n",
       "| CREO/MCUP/PAEA/FE/UE/MNP |  5                       | PSC                      | 1                        |\n",
       "| CREO/MCUP/PAEA/FE/UE/MNP |  5                       | SUMA                     | 1                        |\n",
       "| MEU/MDSI                 |  5                       | MCR                      | 1                        |\n",
       "| MEU/MDSI                 |  5                       | MGG                      | 1                        |\n",
       "| MEU/MDSI                 |  5                       | MNP/MPDR                 | 1                        |\n",
       "| MEU/MDSI                 |  5                       | MPAIS                    | 1                        |\n",
       "| MEU/MDSI                 |  5                       | MUPP                     | 1                        |\n",
       "\n"
      ],
      "text/plain": [
       "   OP_SIGLAS                n  sec        nn\n",
       "1  MUPP                     15 MPFA/MPAIS 3 \n",
       "2  PSC/MMDG                 14 MPAIS      4 \n",
       "3  MPAIS                    10 PSC        2 \n",
       "4  PSC                       9 MPAIS      2 \n",
       "5  PSC                       9 UP         2 \n",
       "6  CREO                      9 MPAIS      3 \n",
       "7  MDSI                      8 PSC        2 \n",
       "8  SUMA                      8 MUPP       2 \n",
       "9  PSC/MPUP                  6 CREO/MSP   3 \n",
       "10 CREO/MCUP/PAEA/FE/UE/MNP  5 APLA/MPQ   1 \n",
       "11 CREO/MCUP/PAEA/FE/UE/MNP  5 ID         1 \n",
       "12 CREO/MCUP/PAEA/FE/UE/MNP  5 MJS/PSE    1 \n",
       "13 CREO/MCUP/PAEA/FE/UE/MNP  5 PSC        1 \n",
       "14 CREO/MCUP/PAEA/FE/UE/MNP  5 SUMA       1 \n",
       "15 MEU/MDSI                  5 MCR        1 \n",
       "16 MEU/MDSI                  5 MGG        1 \n",
       "17 MEU/MDSI                  5 MNP/MPDR   1 \n",
       "18 MEU/MDSI                  5 MPAIS      1 \n",
       "19 MEU/MDSI                  5 MUPP       1 "
      ]
     },
     "metadata": {},
     "output_type": "display_data"
    }
   ],
   "source": [
    "# finding parties in second place for each victory of top parties\n",
    "second_party <- resultados_alc %>%\n",
    "  arrange(CANTON_CODIGO, desc(VOTOS)) %>% #CANTON_CODIGO - id for city council\n",
    "  group_by(CANTON_CODIGO) %>%\n",
    "  mutate(order = row_number()) %>% #creating index \n",
    "  filter(order <= 2) %>% select(-VOTOS, -PROVINCIA_CODIGO, -PROVINCIA_NOMBRE) %>%  #filtering out first and second party\n",
    "  left_join(partidos_alc %>% #getting info on parties using shared variable (id for candidate)\n",
    "              select(CANDIDATO_CODIGO, OP_SIGLAS), by = \"CANDIDATO_CODIGO\") %>%\n",
    "  rename(OPS = OP_SIGLAS) %>%\n",
    "  mutate(OP_SIGLAS = ifelse(order == 1, as.character(OPS), \"\")) %>%\n",
    "  left_join(top_parties, by = \"OP_SIGLAS\") %>% #it can't be right join because it would remove order == 2\n",
    "  mutate(n = ifelse(is.na(n) == TRUE, 0, n),\n",
    "         temp = sum(n)) %>% ungroup() %>% \n",
    "  filter(temp != 0) %>%\n",
    "  mutate(sec = ifelse(order == 1, as.character(lead(OPS)), NA)) %>% #creates variable with party in second place\n",
    "  select(-OPS, -temp) %>%\n",
    "  filter(!is.na(sec)) %>%\n",
    "  count(OP_SIGLAS, n, sec)\n",
    "\n",
    "second_party %>%\n",
    "  group_by(OP_SIGLAS) %>%\n",
    "  filter(nn == max(nn)) %>%\n",
    "  arrange(desc(n), nn)"
   ]
  },
  {
   "cell_type": "markdown",
   "metadata": {},
   "source": [
    "There is no single clear contender for the parties with the best performance. For instance, the MPFA/MPAIS came in second three times when the MUPP won, which represents 20% of the victories for the MUPP. Most of these parties came in second less than 50% of the times when the top parties won. This gives further evidence of the level of fragmentation in the political system."
   ]
  },
  {
   "cell_type": "code",
   "execution_count": 12,
   "metadata": {},
   "outputs": [
    {
     "data": {
      "text/html": [
       "<table>\n",
       "<thead><tr><th scope=col>sec</th><th scope=col>total_sec</th></tr></thead>\n",
       "<tbody>\n",
       "\t<tr><td>MPAIS                   </td><td>12                      </td></tr>\n",
       "\t<tr><td>PSC                     </td><td> 6                      </td></tr>\n",
       "\t<tr><td>MUPP                    </td><td> 5                      </td></tr>\n",
       "\t<tr><td>CREO                    </td><td> 4                      </td></tr>\n",
       "\t<tr><td>PSC/MMDG                </td><td> 3                      </td></tr>\n",
       "\t<tr><td>UP                      </td><td> 3                      </td></tr>\n",
       "\t<tr><td>MPFA/MPAIS              </td><td> 3                      </td></tr>\n",
       "\t<tr><td>CREO/MSP                </td><td> 3                      </td></tr>\n",
       "\t<tr><td>SUMA                    </td><td> 2                      </td></tr>\n",
       "\t<tr><td>MNP/MPDR                </td><td> 2                      </td></tr>\n",
       "\t<tr><td>CD                      </td><td> 2                      </td></tr>\n",
       "\t<tr><td>CREO/MCUP/PAEA/FE/UE/MNP</td><td> 2                      </td></tr>\n",
       "\t<tr><td>SUMA/PSC                </td><td> 2                      </td></tr>\n",
       "\t<tr><td>PSC/SUMA                </td><td> 2                      </td></tr>\n",
       "\t<tr><td>MFCS                    </td><td> 2                      </td></tr>\n",
       "\t<tr><td>MLC                     </td><td> 1                      </td></tr>\n",
       "\t<tr><td>MUPP/PRIMIZA            </td><td> 1                      </td></tr>\n",
       "\t<tr><td>PPA                     </td><td> 1                      </td></tr>\n",
       "\t<tr><td>APLA/MPQ                </td><td> 1                      </td></tr>\n",
       "\t<tr><td>ID                      </td><td> 1                      </td></tr>\n",
       "</tbody>\n",
       "</table>\n"
      ],
      "text/latex": [
       "\\begin{tabular}{r|ll}\n",
       " sec & total\\_sec\\\\\n",
       "\\hline\n",
       "\t MPAIS                    & 12                      \\\\\n",
       "\t PSC                      &  6                      \\\\\n",
       "\t MUPP                     &  5                      \\\\\n",
       "\t CREO                     &  4                      \\\\\n",
       "\t PSC/MMDG                 &  3                      \\\\\n",
       "\t UP                       &  3                      \\\\\n",
       "\t MPFA/MPAIS               &  3                      \\\\\n",
       "\t CREO/MSP                 &  3                      \\\\\n",
       "\t SUMA                     &  2                      \\\\\n",
       "\t MNP/MPDR                 &  2                      \\\\\n",
       "\t CD                       &  2                      \\\\\n",
       "\t CREO/MCUP/PAEA/FE/UE/MNP &  2                      \\\\\n",
       "\t SUMA/PSC                 &  2                      \\\\\n",
       "\t PSC/SUMA                 &  2                      \\\\\n",
       "\t MFCS                     &  2                      \\\\\n",
       "\t MLC                      &  1                      \\\\\n",
       "\t MUPP/PRIMIZA             &  1                      \\\\\n",
       "\t PPA                      &  1                      \\\\\n",
       "\t APLA/MPQ                 &  1                      \\\\\n",
       "\t ID                       &  1                      \\\\\n",
       "\\end{tabular}\n"
      ],
      "text/markdown": [
       "\n",
       "| sec | total_sec |\n",
       "|---|---|\n",
       "| MPAIS                    | 12                       |\n",
       "| PSC                      |  6                       |\n",
       "| MUPP                     |  5                       |\n",
       "| CREO                     |  4                       |\n",
       "| PSC/MMDG                 |  3                       |\n",
       "| UP                       |  3                       |\n",
       "| MPFA/MPAIS               |  3                       |\n",
       "| CREO/MSP                 |  3                       |\n",
       "| SUMA                     |  2                       |\n",
       "| MNP/MPDR                 |  2                       |\n",
       "| CD                       |  2                       |\n",
       "| CREO/MCUP/PAEA/FE/UE/MNP |  2                       |\n",
       "| SUMA/PSC                 |  2                       |\n",
       "| PSC/SUMA                 |  2                       |\n",
       "| MFCS                     |  2                       |\n",
       "| MLC                      |  1                       |\n",
       "| MUPP/PRIMIZA             |  1                       |\n",
       "| PPA                      |  1                       |\n",
       "| APLA/MPQ                 |  1                       |\n",
       "| ID                       |  1                       |\n",
       "\n"
      ],
      "text/plain": [
       "   sec                      total_sec\n",
       "1  MPAIS                    12       \n",
       "2  PSC                       6       \n",
       "3  MUPP                      5       \n",
       "4  CREO                      4       \n",
       "5  PSC/MMDG                  3       \n",
       "6  UP                        3       \n",
       "7  MPFA/MPAIS                3       \n",
       "8  CREO/MSP                  3       \n",
       "9  SUMA                      2       \n",
       "10 MNP/MPDR                  2       \n",
       "11 CD                        2       \n",
       "12 CREO/MCUP/PAEA/FE/UE/MNP  2       \n",
       "13 SUMA/PSC                  2       \n",
       "14 PSC/SUMA                  2       \n",
       "15 MFCS                      2       \n",
       "16 MLC                       1       \n",
       "17 MUPP/PRIMIZA              1       \n",
       "18 PPA                       1       \n",
       "19 APLA/MPQ                  1       \n",
       "20 ID                        1       "
      ]
     },
     "metadata": {},
     "output_type": "display_data"
    }
   ],
   "source": [
    "# parties that appear the most in second place\n",
    "second_party %>%\n",
    "  group_by(sec) %>%\n",
    "  mutate(total_sec = sum(nn)) %>%\n",
    "  select(-OP_SIGLAS, -n, -nn) %>% unique() %>%\n",
    "  arrange(desc(total_sec)) %>%\n",
    "  head(20)"
   ]
  },
  {
   "cell_type": "markdown",
   "metadata": {},
   "source": [
    "The table shows the 20 first parties that came in second when the top ten parties won. MPAIS is the party that came in second the most. It would appear that single parties, in this specific case, had a better performance than alliances, since they are represented by the first four positions with the highest values."
   ]
  },
  {
   "cell_type": "markdown",
   "metadata": {},
   "source": [
    "### Difference between parties in first and second place"
   ]
  },
  {
   "cell_type": "code",
   "execution_count": 14,
   "metadata": {},
   "outputs": [
    {
     "data": {
      "image/png": "[encoded data removed]",
      "text/plain": [
       "plot without title"
      ]
     },
     "metadata": {},
     "output_type": "display_data"
    }
   ],
   "source": [
    "# getting difference between first and second parties when top parties won\n",
    "fsp_results <- resultados_alc %>%\n",
    "  select(-PROVINCIA_CODIGO, -PROVINCIA_NOMBRE) %>%\n",
    "  group_by(CANTON_CODIGO) %>% \n",
    "  mutate(total = sum(VOTOS),\n",
    "         perc = (VOTOS/total)*100) %>%\n",
    "  arrange(CANTON_CODIGO, desc(VOTOS)) %>%\n",
    "  mutate(order = row_number()) %>%\n",
    "  filter(order <= 2) %>%\n",
    "  mutate(dif_seg = perc - lead(perc),\n",
    "         CANTON_NOMBRE = as.character(CANTON_NOMBRE)) %>% #CANTON_NOMBRE - name of city council\n",
    "  filter(!is.na(dif_seg)) %>%\n",
    "  left_join(partidos_alc %>% select(-OP_NOMBRE, -CANDIDATO_ESTADO), by = \"CANDIDATO_CODIGO\") %>%\n",
    "  right_join(top_parties %>% ungroup() %>% mutate(party_n = row_number()), by = \"OP_SIGLAS\") %>%\n",
    "  select(-order, -perc, -VOTOS, -total, -CANDIDATO_CODIGO) %>%\n",
    "  arrange(desc(n), desc(dif_seg))\n",
    "\n",
    "options(repr.plot.width=10, repr.plot.height=8)\n",
    "fsp_plot <- ggplot(fsp_results, aes(reorder(CANTON_NOMBRE, party_n), dif_seg)) +\n",
    "  geom_bar(aes(fill = reorder(OP_SIGLAS, party_n)), stat = \"identity\") +\n",
    "  scale_fill_brewer(palette = 'Paired') +\n",
    "  guides(fill = guide_legend(reverse = FALSE)) +\n",
    "  ggtitle('Difference between first and second parties in each canton for top parties') +\n",
    "  xlab('') +\n",
    "  ylab('Difference (%)') +\n",
    "  theme(axis.text.x = element_text(angle = 90, vjust = 1, hjust=1),\n",
    "        plot.title = element_text(hjust = 0.5),\n",
    "        panel.background = element_rect(fill = 'white'),\n",
    "        panel.grid.major.y = element_line(size = 0.05, linetype = 'solid', color='gray'),\n",
    "        panel.grid.minor.y = element_line(size = 0.05, linetype = 'solid', color='gray'),\n",
    "        legend.position = 'bottom',\n",
    "        legend.title = element_blank())\n",
    "fsp_plot"
   ]
  },
  {
   "cell_type": "markdown",
   "metadata": {},
   "source": [
    "From the 89 victories from the top parties, ten had a difference over 20% of the votes with the second party. These cases would suggest a wide support from the electorate. However, by looking at individual cases, it is possible to identify how party performance is related to the number of candidates running for mayor at each city council."
   ]
  },
  {
   "cell_type": "code",
   "execution_count": 19,
   "metadata": {},
   "outputs": [
    {
     "data": {
      "text/html": [
       "<table>\n",
       "<thead><tr><th scope=col>CANTON_NOMBRE</th><th scope=col>CANDIDATO_CODIGO</th><th scope=col>VOTOS</th></tr></thead>\n",
       "<tbody>\n",
       "\t<tr><td>A.baquerizo Moreno</td><td> 3576             </td><td>7793              </td></tr>\n",
       "\t<tr><td>A.baquerizo Moreno</td><td> 6576             </td><td>1981              </td></tr>\n",
       "\t<tr><td>A.baquerizo Moreno</td><td>30928             </td><td>1937              </td></tr>\n",
       "\t<tr><td>A.baquerizo Moreno</td><td>34716             </td><td>1492              </td></tr>\n",
       "\t<tr><td>A.baquerizo Moreno</td><td>22648             </td><td>1157              </td></tr>\n",
       "\t<tr><td>A.baquerizo Moreno</td><td> 9839             </td><td> 522              </td></tr>\n",
       "\t<tr><td>A.baquerizo Moreno</td><td>21276             </td><td> 418              </td></tr>\n",
       "\t<tr><td>A.baquerizo Moreno</td><td> 9487             </td><td> 184              </td></tr>\n",
       "\t<tr><td>A.baquerizo Moreno</td><td>29092             </td><td> 103              </td></tr>\n",
       "</tbody>\n",
       "</table>\n"
      ],
      "text/latex": [
       "\\begin{tabular}{r|lll}\n",
       " CANTON\\_NOMBRE & CANDIDATO\\_CODIGO & VOTOS\\\\\n",
       "\\hline\n",
       "\t A.baquerizo Moreno &  3576              & 7793              \\\\\n",
       "\t A.baquerizo Moreno &  6576              & 1981              \\\\\n",
       "\t A.baquerizo Moreno & 30928              & 1937              \\\\\n",
       "\t A.baquerizo Moreno & 34716              & 1492              \\\\\n",
       "\t A.baquerizo Moreno & 22648              & 1157              \\\\\n",
       "\t A.baquerizo Moreno &  9839              &  522              \\\\\n",
       "\t A.baquerizo Moreno & 21276              &  418              \\\\\n",
       "\t A.baquerizo Moreno &  9487              &  184              \\\\\n",
       "\t A.baquerizo Moreno & 29092              &  103              \\\\\n",
       "\\end{tabular}\n"
      ],
      "text/markdown": [
       "\n",
       "| CANTON_NOMBRE | CANDIDATO_CODIGO | VOTOS |\n",
       "|---|---|---|\n",
       "| A.baquerizo Moreno |  3576              | 7793               |\n",
       "| A.baquerizo Moreno |  6576              | 1981               |\n",
       "| A.baquerizo Moreno | 30928              | 1937               |\n",
       "| A.baquerizo Moreno | 34716              | 1492               |\n",
       "| A.baquerizo Moreno | 22648              | 1157               |\n",
       "| A.baquerizo Moreno |  9839              |  522               |\n",
       "| A.baquerizo Moreno | 21276              |  418               |\n",
       "| A.baquerizo Moreno |  9487              |  184               |\n",
       "| A.baquerizo Moreno | 29092              |  103               |\n",
       "\n"
      ],
      "text/plain": [
       "  CANTON_NOMBRE      CANDIDATO_CODIGO VOTOS\n",
       "1 A.baquerizo Moreno  3576            7793 \n",
       "2 A.baquerizo Moreno  6576            1981 \n",
       "3 A.baquerizo Moreno 30928            1937 \n",
       "4 A.baquerizo Moreno 34716            1492 \n",
       "5 A.baquerizo Moreno 22648            1157 \n",
       "6 A.baquerizo Moreno  9839             522 \n",
       "7 A.baquerizo Moreno 21276             418 \n",
       "8 A.baquerizo Moreno  9487             184 \n",
       "9 A.baquerizo Moreno 29092             103 "
      ]
     },
     "metadata": {},
     "output_type": "display_data"
    },
    {
     "data": {
      "text/html": [
       "49.997"
      ],
      "text/latex": [
       "49.997"
      ],
      "text/markdown": [
       "49.997"
      ],
      "text/plain": [
       "[1] 49.997"
      ]
     },
     "metadata": {},
     "output_type": "display_data"
    },
    {
     "data": {
      "text/html": [
       "<table>\n",
       "<thead><tr><th scope=col>CANTON_NOMBRE</th><th scope=col>CANDIDATO_CODIGO</th><th scope=col>VOTOS</th></tr></thead>\n",
       "<tbody>\n",
       "\t<tr><td>Daule</td><td> 1162</td><td>28472</td></tr>\n",
       "\t<tr><td>Daule</td><td>21019</td><td>10686</td></tr>\n",
       "\t<tr><td>Daule</td><td>32938</td><td> 7253</td></tr>\n",
       "\t<tr><td>Daule</td><td>12817</td><td> 6000</td></tr>\n",
       "\t<tr><td>Daule</td><td>17590</td><td> 4881</td></tr>\n",
       "\t<tr><td>Daule</td><td>20742</td><td> 4847</td></tr>\n",
       "\t<tr><td>Daule</td><td> 6387</td><td> 3880</td></tr>\n",
       "\t<tr><td>Daule</td><td>34926</td><td> 3105</td></tr>\n",
       "\t<tr><td>Daule</td><td> 7717</td><td> 2447</td></tr>\n",
       "\t<tr><td>Daule</td><td>24656</td><td> 2337</td></tr>\n",
       "\t<tr><td>Daule</td><td> 4718</td><td> 1895</td></tr>\n",
       "\t<tr><td>Daule</td><td>20016</td><td> 1390</td></tr>\n",
       "\t<tr><td>Daule</td><td>23086</td><td> 1373</td></tr>\n",
       "\t<tr><td>Daule</td><td>38020</td><td>  598</td></tr>\n",
       "\t<tr><td>Daule</td><td>29178</td><td>  490</td></tr>\n",
       "\t<tr><td>Daule</td><td>33543</td><td>  444</td></tr>\n",
       "\t<tr><td>Daule</td><td>36569</td><td>  324</td></tr>\n",
       "\t<tr><td>Daule</td><td>24318</td><td>  255</td></tr>\n",
       "</tbody>\n",
       "</table>\n"
      ],
      "text/latex": [
       "\\begin{tabular}{r|lll}\n",
       " CANTON\\_NOMBRE & CANDIDATO\\_CODIGO & VOTOS\\\\\n",
       "\\hline\n",
       "\t Daule &  1162 & 28472\\\\\n",
       "\t Daule & 21019 & 10686\\\\\n",
       "\t Daule & 32938 &  7253\\\\\n",
       "\t Daule & 12817 &  6000\\\\\n",
       "\t Daule & 17590 &  4881\\\\\n",
       "\t Daule & 20742 &  4847\\\\\n",
       "\t Daule &  6387 &  3880\\\\\n",
       "\t Daule & 34926 &  3105\\\\\n",
       "\t Daule &  7717 &  2447\\\\\n",
       "\t Daule & 24656 &  2337\\\\\n",
       "\t Daule &  4718 &  1895\\\\\n",
       "\t Daule & 20016 &  1390\\\\\n",
       "\t Daule & 23086 &  1373\\\\\n",
       "\t Daule & 38020 &   598\\\\\n",
       "\t Daule & 29178 &   490\\\\\n",
       "\t Daule & 33543 &   444\\\\\n",
       "\t Daule & 36569 &   324\\\\\n",
       "\t Daule & 24318 &   255\\\\\n",
       "\\end{tabular}\n"
      ],
      "text/markdown": [
       "\n",
       "| CANTON_NOMBRE | CANDIDATO_CODIGO | VOTOS |\n",
       "|---|---|---|\n",
       "| Daule |  1162 | 28472 |\n",
       "| Daule | 21019 | 10686 |\n",
       "| Daule | 32938 |  7253 |\n",
       "| Daule | 12817 |  6000 |\n",
       "| Daule | 17590 |  4881 |\n",
       "| Daule | 20742 |  4847 |\n",
       "| Daule |  6387 |  3880 |\n",
       "| Daule | 34926 |  3105 |\n",
       "| Daule |  7717 |  2447 |\n",
       "| Daule | 24656 |  2337 |\n",
       "| Daule |  4718 |  1895 |\n",
       "| Daule | 20016 |  1390 |\n",
       "| Daule | 23086 |  1373 |\n",
       "| Daule | 38020 |   598 |\n",
       "| Daule | 29178 |   490 |\n",
       "| Daule | 33543 |   444 |\n",
       "| Daule | 36569 |   324 |\n",
       "| Daule | 24318 |   255 |\n",
       "\n"
      ],
      "text/plain": [
       "   CANTON_NOMBRE CANDIDATO_CODIGO VOTOS\n",
       "1  Daule          1162            28472\n",
       "2  Daule         21019            10686\n",
       "3  Daule         32938             7253\n",
       "4  Daule         12817             6000\n",
       "5  Daule         17590             4881\n",
       "6  Daule         20742             4847\n",
       "7  Daule          6387             3880\n",
       "8  Daule         34926             3105\n",
       "9  Daule          7717             2447\n",
       "10 Daule         24656             2337\n",
       "11 Daule          4718             1895\n",
       "12 Daule         20016             1390\n",
       "13 Daule         23086             1373\n",
       "14 Daule         38020              598\n",
       "15 Daule         29178              490\n",
       "16 Daule         33543              444\n",
       "17 Daule         36569              324\n",
       "18 Daule         24318              255"
      ]
     },
     "metadata": {},
     "output_type": "display_data"
    },
    {
     "data": {
      "text/html": [
       "35.291"
      ],
      "text/latex": [
       "35.291"
      ],
      "text/markdown": [
       "35.291"
      ],
      "text/plain": [
       "[1] 35.291"
      ]
     },
     "metadata": {},
     "output_type": "display_data"
    },
    {
     "data": {
      "text/html": [
       "<table>\n",
       "<thead><tr><th scope=col>CANTON_NOMBRE</th><th scope=col>CANDIDATO_CODIGO</th><th scope=col>VOTOS</th></tr></thead>\n",
       "<tbody>\n",
       "\t<tr><td>Duran</td><td> 3455</td><td>47621</td></tr>\n",
       "\t<tr><td>Duran</td><td> 9466</td><td>33230</td></tr>\n",
       "\t<tr><td>Duran</td><td> 4423</td><td>30987</td></tr>\n",
       "\t<tr><td>Duran</td><td>16883</td><td> 7264</td></tr>\n",
       "\t<tr><td>Duran</td><td>11645</td><td> 4931</td></tr>\n",
       "\t<tr><td>Duran</td><td>20092</td><td> 2511</td></tr>\n",
       "\t<tr><td>Duran</td><td>32630</td><td> 2142</td></tr>\n",
       "\t<tr><td>Duran</td><td>20490</td><td> 1762</td></tr>\n",
       "\t<tr><td>Duran</td><td>21873</td><td> 1513</td></tr>\n",
       "\t<tr><td>Duran</td><td>35634</td><td> 1264</td></tr>\n",
       "\t<tr><td>Duran</td><td> 4568</td><td>  949</td></tr>\n",
       "\t<tr><td>Duran</td><td> 9370</td><td>  812</td></tr>\n",
       "\t<tr><td>Duran</td><td> 8232</td><td>  616</td></tr>\n",
       "\t<tr><td>Duran</td><td>   56</td><td>  608</td></tr>\n",
       "\t<tr><td>Duran</td><td>15234</td><td>  454</td></tr>\n",
       "\t<tr><td>Duran</td><td>30401</td><td>  435</td></tr>\n",
       "\t<tr><td>Duran</td><td>30797</td><td>  422</td></tr>\n",
       "\t<tr><td>Duran</td><td>29936</td><td>  409</td></tr>\n",
       "\t<tr><td>Duran</td><td>24970</td><td>  338</td></tr>\n",
       "\t<tr><td>Duran</td><td>16459</td><td>  312</td></tr>\n",
       "\t<tr><td>Duran</td><td>33183</td><td>  269</td></tr>\n",
       "</tbody>\n",
       "</table>\n"
      ],
      "text/latex": [
       "\\begin{tabular}{r|lll}\n",
       " CANTON\\_NOMBRE & CANDIDATO\\_CODIGO & VOTOS\\\\\n",
       "\\hline\n",
       "\t Duran &  3455 & 47621\\\\\n",
       "\t Duran &  9466 & 33230\\\\\n",
       "\t Duran &  4423 & 30987\\\\\n",
       "\t Duran & 16883 &  7264\\\\\n",
       "\t Duran & 11645 &  4931\\\\\n",
       "\t Duran & 20092 &  2511\\\\\n",
       "\t Duran & 32630 &  2142\\\\\n",
       "\t Duran & 20490 &  1762\\\\\n",
       "\t Duran & 21873 &  1513\\\\\n",
       "\t Duran & 35634 &  1264\\\\\n",
       "\t Duran &  4568 &   949\\\\\n",
       "\t Duran &  9370 &   812\\\\\n",
       "\t Duran &  8232 &   616\\\\\n",
       "\t Duran &    56 &   608\\\\\n",
       "\t Duran & 15234 &   454\\\\\n",
       "\t Duran & 30401 &   435\\\\\n",
       "\t Duran & 30797 &   422\\\\\n",
       "\t Duran & 29936 &   409\\\\\n",
       "\t Duran & 24970 &   338\\\\\n",
       "\t Duran & 16459 &   312\\\\\n",
       "\t Duran & 33183 &   269\\\\\n",
       "\\end{tabular}\n"
      ],
      "text/markdown": [
       "\n",
       "| CANTON_NOMBRE | CANDIDATO_CODIGO | VOTOS |\n",
       "|---|---|---|\n",
       "| Duran |  3455 | 47621 |\n",
       "| Duran |  9466 | 33230 |\n",
       "| Duran |  4423 | 30987 |\n",
       "| Duran | 16883 |  7264 |\n",
       "| Duran | 11645 |  4931 |\n",
       "| Duran | 20092 |  2511 |\n",
       "| Duran | 32630 |  2142 |\n",
       "| Duran | 20490 |  1762 |\n",
       "| Duran | 21873 |  1513 |\n",
       "| Duran | 35634 |  1264 |\n",
       "| Duran |  4568 |   949 |\n",
       "| Duran |  9370 |   812 |\n",
       "| Duran |  8232 |   616 |\n",
       "| Duran |    56 |   608 |\n",
       "| Duran | 15234 |   454 |\n",
       "| Duran | 30401 |   435 |\n",
       "| Duran | 30797 |   422 |\n",
       "| Duran | 29936 |   409 |\n",
       "| Duran | 24970 |   338 |\n",
       "| Duran | 16459 |   312 |\n",
       "| Duran | 33183 |   269 |\n",
       "\n"
      ],
      "text/plain": [
       "   CANTON_NOMBRE CANDIDATO_CODIGO VOTOS\n",
       "1  Duran          3455            47621\n",
       "2  Duran          9466            33230\n",
       "3  Duran          4423            30987\n",
       "4  Duran         16883             7264\n",
       "5  Duran         11645             4931\n",
       "6  Duran         20092             2511\n",
       "7  Duran         32630             2142\n",
       "8  Duran         20490             1762\n",
       "9  Duran         21873             1513\n",
       "10 Duran         35634             1264\n",
       "11 Duran          4568              949\n",
       "12 Duran          9370              812\n",
       "13 Duran          8232              616\n",
       "14 Duran            56              608\n",
       "15 Duran         15234              454\n",
       "16 Duran         30401              435\n",
       "17 Duran         30797              422\n",
       "18 Duran         29936              409\n",
       "19 Duran         24970              338\n",
       "20 Duran         16459              312\n",
       "21 Duran         33183              269"
      ]
     },
     "metadata": {},
     "output_type": "display_data"
    },
    {
     "data": {
      "text/html": [
       "34.297"
      ],
      "text/latex": [
       "34.297"
      ],
      "text/markdown": [
       "34.297"
      ],
      "text/plain": [
       "[1] 34.297"
      ]
     },
     "metadata": {},
     "output_type": "display_data"
    }
   ],
   "source": [
    "# Canton: A. Baquerizo Moreno\n",
    "ABM <- arrange(resultados_alc[which(resultados_alc$CANTON_NOMBRE=='A.baquerizo Moreno'),], desc(VOTOS)) %>%\n",
    "  select(-PROVINCIA_CODIGO, -PROVINCIA_NOMBRE, -CANTON_CODIGO)\n",
    "ABM\n",
    "round((max(ABM$VOTOS)/sum(ABM$VOTOS))*100,3)\n",
    "\n",
    "# Canton: Daule\n",
    "DAU <- arrange(resultados_alc[which(resultados_alc$CANTON_NOMBRE=='Daule'),], desc(VOTOS)) %>%\n",
    "  select(-PROVINCIA_CODIGO, -PROVINCIA_NOMBRE, -CANTON_CODIGO)\n",
    "DAU\n",
    "round((max(DAU$VOTOS)/sum(DAU$VOTOS))*100,3)\n",
    "\n",
    "# Canton: Duran\n",
    "DUR <- arrange(resultados_alc[which(resultados_alc$CANTON_NOMBRE=='Duran'),], desc(VOTOS)) %>%\n",
    "  select(-PROVINCIA_CODIGO, -PROVINCIA_NOMBRE, -CANTON_CODIGO)\n",
    "DUR\n",
    "round((max(DUR$VOTOS)/sum(DUR$VOTOS))*100,3)"
   ]
  },
  {
   "cell_type": "markdown",
   "metadata": {},
   "source": [
    "In the first case, the party that won in A. Baquerizo Moreno got 49.99% of the votes. Eight other parties were participating in this mayor race. However, in Daule, the winning party got 35.29% of the vote in an election with 18 candidates. Another canton, Duran, had 21 candidates, where the winner got little more than a third of the total votes (34,29%).\n",
    "\n",
    "These few examples point to the existence of fragmentation in the political system. Moreover, the widespread use of alliances has not diminished the appearance of wide range of political organizations. In this case, the main issue with fragmentation has to do with the legitimacy of the party in power. Being elected with less than half of support in a scenario with more than ten political parties could potentially constrained the party performance once in power."
   ]
  },
  {
   "cell_type": "markdown",
   "metadata": {},
   "source": [
    "### Future Work"
   ]
  },
  {
   "cell_type": "markdown",
   "metadata": {},
   "source": [
    "This is small exploratory analysis that could serve as a basis for further research. In this sense, it would be interesting to explore difference at geographical level to check if party fragmentation is concentrated over certain regions. The analysis only took into account the number of victories, but it would also be interesting to determine performance based on the number of votes, since this would also control for population size. The dataset has the number of votes as well. Finally, it would be possible to establish the likelihood of victory of each party, based on its participation in certain locations and measuring its performance compared to other parties."
   ]
  }
 ],
 "metadata": {
  "kernelspec": {
   "display_name": "R",
   "language": "R",
   "name": "ir"
  },
  "language_info": {
   "codemirror_mode": "r",
   "file_extension": ".r",
   "mimetype": "text/x-r-source",
   "name": "R",
   "pygments_lexer": "r",
   "version": "3.6.1"
  }
 },
 "nbformat": 4,
 "nbformat_minor": 4
}
